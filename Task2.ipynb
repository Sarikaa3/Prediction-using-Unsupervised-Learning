{
  "nbformat": 4,
  "nbformat_minor": 0,
  "metadata": {
    "colab": {
      "name": "Task2.ipynb",
      "provenance": []
    },
    "kernelspec": {
      "name": "python3",
      "display_name": "Python 3"
    }
  },
  "cells": [
    {
      "cell_type": "markdown",
      "metadata": {
        "id": "njajHexRP1Ve"
      },
      "source": [
        "The Sparks Foundation #GRIPFEB21\r\n",
        "\r\n",
        "Prediction using Unsupervised ML\r\n",
        "\r\n",
        "Name : Sarikaa S"
      ]
    },
    {
      "cell_type": "code",
      "metadata": {
        "id": "63paYtBpl8Nx"
      },
      "source": [
        "#import libraries\r\n",
        "%matplotlib inline\r\n",
        "import numpy as np\r\n",
        "import matplotlib.pyplot as plt\r\n",
        "import pandas as pd"
      ],
      "execution_count": 1,
      "outputs": []
    },
    {
      "cell_type": "code",
      "metadata": {
        "colab": {
          "base_uri": "https://localhost:8080/"
        },
        "id": "AgBR8Ufet-jT",
        "outputId": "485aaf5a-29ae-496c-ec0a-b573a24e1696"
      },
      "source": [
        "#mounting my google drive where the dataset is present\r\n",
        "from google.colab import drive\r\n",
        "drive.mount('/content/gdrive')\r\n",
        "!ln -s /content/gdrive/My\\ Drive/ /mydrive\r\n"
      ],
      "execution_count": 12,
      "outputs": [
        {
          "output_type": "stream",
          "text": [
            "Drive already mounted at /content/gdrive; to attempt to forcibly remount, call drive.mount(\"/content/gdrive\", force_remount=True).\n"
          ],
          "name": "stdout"
        }
      ]
    },
    {
      "cell_type": "code",
      "metadata": {
        "colab": {
          "base_uri": "https://localhost:8080/"
        },
        "id": "5mb7TVtAmM1W",
        "outputId": "3d022c3a-ef6b-48d7-bbc4-4cd039f8efb4"
      },
      "source": [
        "#reading the dataset\r\n",
        "dataset = \"/mydrive/Iris.csv\"\r\n",
        "\r\n",
        "#read_csv in pandas is used to read the csv file\r\n",
        "data = pd.read_csv(dataset)\r\n",
        "print(\"Imported the dataset successfully\")\r\n"
      ],
      "execution_count": 13,
      "outputs": [
        {
          "output_type": "stream",
          "text": [
            "Imported the dataset successfully\n"
          ],
          "name": "stdout"
        }
      ]
    },
    {
      "cell_type": "code",
      "metadata": {
        "colab": {
          "base_uri": "https://localhost:8080/",
          "height": 218
        },
        "id": "MyvadgNHmQdZ",
        "outputId": "26c5d706-a34a-43ab-8fa4-5847f5ef1a69"
      },
      "source": [
        "#Printing the shape of the dataset to know the no.of rows and columns\r\n",
        "print(data.shape)\r\n",
        "data.head()#This line prints the first five rows of the dataset\r\n"
      ],
      "execution_count": 45,
      "outputs": [
        {
          "output_type": "stream",
          "text": [
            "(150, 6)\n"
          ],
          "name": "stdout"
        },
        {
          "output_type": "execute_result",
          "data": {
            "text/html": [
              "<div>\n",
              "<style scoped>\n",
              "    .dataframe tbody tr th:only-of-type {\n",
              "        vertical-align: middle;\n",
              "    }\n",
              "\n",
              "    .dataframe tbody tr th {\n",
              "        vertical-align: top;\n",
              "    }\n",
              "\n",
              "    .dataframe thead th {\n",
              "        text-align: right;\n",
              "    }\n",
              "</style>\n",
              "<table border=\"1\" class=\"dataframe\">\n",
              "  <thead>\n",
              "    <tr style=\"text-align: right;\">\n",
              "      <th></th>\n",
              "      <th>Id</th>\n",
              "      <th>SepalLengthCm</th>\n",
              "      <th>SepalWidthCm</th>\n",
              "      <th>PetalLengthCm</th>\n",
              "      <th>PetalWidthCm</th>\n",
              "      <th>Species</th>\n",
              "    </tr>\n",
              "  </thead>\n",
              "  <tbody>\n",
              "    <tr>\n",
              "      <th>0</th>\n",
              "      <td>1</td>\n",
              "      <td>5.1</td>\n",
              "      <td>3.5</td>\n",
              "      <td>1.4</td>\n",
              "      <td>0.2</td>\n",
              "      <td>Iris-setosa</td>\n",
              "    </tr>\n",
              "    <tr>\n",
              "      <th>1</th>\n",
              "      <td>2</td>\n",
              "      <td>4.9</td>\n",
              "      <td>3.0</td>\n",
              "      <td>1.4</td>\n",
              "      <td>0.2</td>\n",
              "      <td>Iris-setosa</td>\n",
              "    </tr>\n",
              "    <tr>\n",
              "      <th>2</th>\n",
              "      <td>3</td>\n",
              "      <td>4.7</td>\n",
              "      <td>3.2</td>\n",
              "      <td>1.3</td>\n",
              "      <td>0.2</td>\n",
              "      <td>Iris-setosa</td>\n",
              "    </tr>\n",
              "    <tr>\n",
              "      <th>3</th>\n",
              "      <td>4</td>\n",
              "      <td>4.6</td>\n",
              "      <td>3.1</td>\n",
              "      <td>1.5</td>\n",
              "      <td>0.2</td>\n",
              "      <td>Iris-setosa</td>\n",
              "    </tr>\n",
              "    <tr>\n",
              "      <th>4</th>\n",
              "      <td>5</td>\n",
              "      <td>5.0</td>\n",
              "      <td>3.6</td>\n",
              "      <td>1.4</td>\n",
              "      <td>0.2</td>\n",
              "      <td>Iris-setosa</td>\n",
              "    </tr>\n",
              "  </tbody>\n",
              "</table>\n",
              "</div>"
            ],
            "text/plain": [
              "   Id  SepalLengthCm  SepalWidthCm  PetalLengthCm  PetalWidthCm      Species\n",
              "0   1            5.1           3.5            1.4           0.2  Iris-setosa\n",
              "1   2            4.9           3.0            1.4           0.2  Iris-setosa\n",
              "2   3            4.7           3.2            1.3           0.2  Iris-setosa\n",
              "3   4            4.6           3.1            1.5           0.2  Iris-setosa\n",
              "4   5            5.0           3.6            1.4           0.2  Iris-setosa"
            ]
          },
          "metadata": {
            "tags": []
          },
          "execution_count": 45
        }
      ]
    },
    {
      "cell_type": "code",
      "metadata": {
        "colab": {
          "base_uri": "https://localhost:8080/",
          "height": 458
        },
        "id": "gH3DjBm5wK9p",
        "outputId": "1dfd0dab-104f-447c-e618-4cc5734c8b39"
      },
      "source": [
        "#plotting the dataset\r\n",
        "import seaborn as sns \r\n",
        "   \r\n",
        "sns.set_style(\"whitegrid\") \r\n",
        "sns.FacetGrid(data, hue =\"Species\",  \r\n",
        "              height = 6).map(plt.scatter,  \r\n",
        "                              'SepalLengthCm',\r\n",
        "                              'PetalLengthCm').add_legend() "
      ],
      "execution_count": 51,
      "outputs": [
        {
          "output_type": "execute_result",
          "data": {
            "text/plain": [
              "<seaborn.axisgrid.FacetGrid at 0x7f4da03e3208>"
            ]
          },
          "metadata": {
            "tags": []
          },
          "execution_count": 51
        },
        {
          "output_type": "display_data",
          "data": {
            "image/png": "[encoded data removed]",
            "text/plain": [
              "<Figure size 535.25x432 with 1 Axes>"
            ]
          },
          "metadata": {
            "tags": []
          }
        }
      ]
    },
    {
      "cell_type": "code",
      "metadata": {
        "colab": {
          "base_uri": "https://localhost:8080/"
        },
        "id": "R4PYOkFT8LfN",
        "outputId": "a5ec5457-a457-47b2-9f94-c62f6ad306c1"
      },
      "source": [
        "#inputs are assigned to X\r\n",
        "X=data.iloc[:, [1, 2, 3,4]]\r\n",
        "print(X)"
      ],
      "execution_count": 40,
      "outputs": [
        {
          "output_type": "stream",
          "text": [
            "     SepalLengthCm  SepalWidthCm  PetalLengthCm  PetalWidthCm\n",
            "0              5.1           3.5            1.4           0.2\n",
            "1              4.9           3.0            1.4           0.2\n",
            "2              4.7           3.2            1.3           0.2\n",
            "3              4.6           3.1            1.5           0.2\n",
            "4              5.0           3.6            1.4           0.2\n",
            "..             ...           ...            ...           ...\n",
            "145            6.7           3.0            5.2           2.3\n",
            "146            6.3           2.5            5.0           1.9\n",
            "147            6.5           3.0            5.2           2.0\n",
            "148            6.2           3.4            5.4           2.3\n",
            "149            5.9           3.0            5.1           1.8\n",
            "\n",
            "[150 rows x 4 columns]\n"
          ],
          "name": "stdout"
        }
      ]
    },
    {
      "cell_type": "code",
      "metadata": {
        "colab": {
          "base_uri": "https://localhost:8080/",
          "height": 268
        },
        "id": "H0pU1Q8k9Rlb",
        "outputId": "80fdff65-5364-4459-f536-c5a7dfc06a82"
      },
      "source": [
        "#the model is created and fitted\r\n",
        "from sklearn.cluster import KMeans\r\n",
        "km = KMeans(n_clusters=3, max_iter=300)\r\n",
        "km.fit(X)\r\n",
        "\r\n",
        "plt.scatter(X.iloc[:,0], X.iloc[:,1])\r\n",
        "plt.scatter(km.cluster_centers_[:, 0], km.cluster_centers_[:, 1],s=100, c='red')\r\n",
        "plt.show()"
      ],
      "execution_count": 59,
      "outputs": [
        {
          "output_type": "display_data",
          "data": {
            "image/png": "[encoded data removed]",
            "text/plain": [
              "<Figure size 432x288 with 1 Axes>"
            ]
          },
          "metadata": {
            "tags": []
          }
        }
      ]
    },
    {
      "cell_type": "markdown",
      "metadata": {
        "id": "UZxjhIOrRGDE"
      },
      "source": [
        "We can see that there are three clusters"
      ]
    },
    {
      "cell_type": "code",
      "metadata": {
        "colab": {
          "base_uri": "https://localhost:8080/",
          "height": 286
        },
        "id": "ZnOHjQFWLkEP",
        "outputId": "db9dc567-2286-430f-c6a3-ec29e5230e22"
      },
      "source": [
        "y_km = km.fit_predict(X)\r\n",
        "plt.scatter(X.iloc[y_km == 0, 0], X.iloc[y_km == 0, 1], \r\n",
        "            s = 50, c = 'brown', label = 'Iris-setosa')\r\n",
        "plt.scatter(X.iloc[y_km == 1, 0], X.iloc[y_km == 1, 1], \r\n",
        "            s = 50, c = 'blue', label = 'Iris-versicolour')\r\n",
        "plt.scatter(X.iloc[y_km == 2, 0], X.iloc[y_km == 2, 1],\r\n",
        "            s = 50, c = 'green', label = 'Iris-virginica')\r\n",
        "plt.scatter(km.cluster_centers_[:, 0], km.cluster_centers_[:, 1],s=100, c='red')\r\n",
        "plt.legend()"
      ],
      "execution_count": 64,
      "outputs": [
        {
          "output_type": "execute_result",
          "data": {
            "text/plain": [
              "<matplotlib.legend.Legend at 0x7f4da020aba8>"
            ]
          },
          "metadata": {
            "tags": []
          },
          "execution_count": 64
        },
        {
          "output_type": "display_data",
          "data": {
            "image/png": "[encoded data removed]",
            "text/plain": [
              "<Figure size 432x288 with 1 Axes>"
            ]
          },
          "metadata": {
            "tags": []
          }
        }
      ]
    },
    {
      "cell_type": "markdown",
      "metadata": {
        "id": "GpvfTLJiP0NH"
      },
      "source": [
        "plotting a scatter plot for visualization of the clusters"
      ]
    },
    {
      "cell_type": "code",
      "metadata": {
        "colab": {
          "base_uri": "https://localhost:8080/",
          "height": 392
        },
        "id": "aNNJ_sppEp22",
        "outputId": "88248386-058d-4891-9ab0-4ff059633b8c"
      },
      "source": [
        "#evaluating the model using \"elbow method\"\r\n",
        "sse=[]\r\n",
        "list_k = list(range(1, 10))\r\n",
        "\r\n",
        "for k in list_k:\r\n",
        "    km = KMeans(n_clusters=k)\r\n",
        "    km.fit(X)\r\n",
        "    sse.append(km.inertia_)\r\n",
        "\r\n",
        "# Plot sse against k\r\n",
        "plt.figure(figsize=(6, 6))\r\n",
        "plt.plot(list_k, sse, '-o')"
      ],
      "execution_count": 42,
      "outputs": [
        {
          "output_type": "execute_result",
          "data": {
            "text/plain": [
              "[<matplotlib.lines.Line2D at 0x7f4da04996a0>]"
            ]
          },
          "metadata": {
            "tags": []
          },
          "execution_count": 42
        },
        {
          "output_type": "display_data",
          "data": {
            "image/png": "[encoded data removed]",
            "text/plain": [
              "<Figure size 432x432 with 1 Axes>"
            ]
          },
          "metadata": {
            "tags": []
          }
        }
      ]
    },
    {
      "cell_type": "markdown",
      "metadata": {
        "id": "x7s3csipS3PF"
      },
      "source": [
        "From the plot we can infere that 3 is the optimal number of clusters"
      ]
    }
  ]
}